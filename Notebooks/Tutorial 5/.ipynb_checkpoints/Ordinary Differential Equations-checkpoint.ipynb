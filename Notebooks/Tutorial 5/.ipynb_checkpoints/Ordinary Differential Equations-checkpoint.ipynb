{
 "cells": [
  {
   "cell_type": "markdown",
   "metadata": {},
   "source": [
    "# Ordinary Differential Equations\n",
    "\n",
    "Differential equations are systems whose variables change with time. Mathematically, differentials are functions that contain derivatives of itself. When these systems are integrated, they provide analytical  functions that are dependent with time. Integration of differentials can be performed by calculus, or numerically. \n",
    "\n",
    "INSERT image here)\n",
    "\n",
    "Ordinary differential equations (ODES) are equations that have a single dependent variables. Partial differential equations are equations that are dependent on 2 or more variables. Furthermore, the order of a differential equation is characterized by the highest derivative of an independent variable. \n",
    "\n",
    "Biological cell growth is a first order differential that describes the exponential increase of biomass concentration  (X) accumulation over time (assuming $ \\mu _g  $  is constant ). \n",
    "\n",
    "\n",
    "$$ \\frac{dX}{dt} = \\mu_g X  $$\n",
    "\n",
    "The Navier-Stokes equations in contrast, are 2nd order partial differentials describing particle position of a fluid as a function of the derivatives of speed, sheer, time and, pressure. \n",
    "\n",
    "$$ \\rho \\big( \\frac{du}{dt} +u \\frac{du}{dx} + v \\frac{dv}{dy} + w \\frac{dw}{dz} \\big) = - \\frac{dP}{dx} + \\mu \\big( \\frac{d^2u}{dx^2} + \\frac{d^2v}{dy^2} +  \\frac{d^2w}{dz^2}    \\big)  $$ \n",
    "\n",
    "The scope of this tutorial focuses on  first order, ordinary differential equations. \n",
    "\n"
   ]
  },
  {
   "cell_type": "markdown",
   "metadata": {},
   "source": [
    "When ODE's are solved, some have an analytical solution. For example, solving the Biomass growth equation gives this analytical solution.\n",
    "\n",
    "$$ X = X_0 e^{\\mu _g (t-t_0)} $$\n",
    "\n",
    "Where $ X_0 $  and $ t_0 $  are initial conditions of the cell concentration and lag time.  \n",
    "\n",
    "If you have worked with numerical methods in Excel, you may have come across solving differentials by using this form:\n",
    "\n",
    "\n",
    "$$  \\frac{dX}{dt} = \\mu_g X$$\n",
    "\n",
    "$$ \\frac{X_{i+1}-X_i}{t_{i+1} - t{i}} = \\mu_g X_i  $$\n",
    "\n",
    "$$ X_{i+1}  =   X_{i}+ \\mu _g X_i  \\Delta t $$ \n",
    "\n",
    "\n",
    "This form of discretizing is the basis of numerical methods for ODE's and are called *single step* or *Runge Kutta* methods.\n",
    "\n",
    "$$ Value_{new} = Value_{old} + slope*stepsize  $$  \n",
    "\n",
    "$$ y_{i+1}  = y_i + \\phi h$$\n",
    "\n",
    "Well studied methods have minimized the error in the phi term to provide highly accurate ODE integrators. "
   ]
  },
  {
   "cell_type": "markdown",
   "metadata": {},
   "source": [
    "## Comparing Analytical solutions  with Numerical Solvers \n",
    "### Stepsizes are important! \n",
    "\n",
    "When using numerical solvers, it is important to consider the step size that the solver is operating at. Discrete methods are stepsize dependent. The code below illustrates what happens to a simple ode solver at low and high step sizes compared to the analytical equation.\n",
    "\n",
    "\n"
   ]
  },
  {
   "cell_type": "code",
   "execution_count": 1,
   "metadata": {},
   "outputs": [
    {
     "data": {
      "text/plain": [
       "<matplotlib.legend.Legend at 0x7f95fe06a208>"
      ]
     },
     "execution_count": 1,
     "metadata": {},
     "output_type": "execute_result"
    },
    {
     "data": {
      "image/png": "[encoded data removed]",
      "text/plain": [
       "<matplotlib.figure.Figure at 0x7f96282c4940>"
      ]
     },
     "metadata": {},
     "output_type": "display_data"
    }
   ],
   "source": [
    "\n",
    "\n",
    "import matplotlib.pyplot as plt \n",
    "import numpy as np\n",
    "from scipy.integrate import odeint\n",
    "%matplotlib inline\n",
    "\n",
    "y0 = 0.1 \n",
    "ug = 0.5 \n",
    "tot = 12.5 \n",
    "stepsize = 10\n",
    "\n",
    "\n",
    "## using simple RK method\n",
    "t = np.linspace(0,tot,stepsize) # creating a time vector\n",
    "t2 = np.linspace(0,tot,stepsize*50) # creating a time vector\n",
    "dt = t[1]-t[0] # establishing dt\n",
    "dt2 = t2[1]-t2[0] # establishing dt\n",
    "y = np.zeros(len(t)) # creating a Cell density vector \n",
    "y2 = np.zeros(len(t2)) # creating a Cell density vector \n",
    "y[0] = y0\n",
    "y2[0] = y0\n",
    "\n",
    "\n",
    "for i in range (1, len(t)):\n",
    "    y[i] = y[i-1] + ug*y[i-1]*dt\n",
    "for i in range (1, len(t2)):\n",
    "    y2[i] = y2[i-1] + ug*y2[i-1]*dt2\n",
    "\n",
    "## using analytical solution \n",
    "    X = np.exp(ug*(t))*y0\n",
    "    \n",
    "# plotting both in comparaison\n",
    "plt.xlabel('time,h')\n",
    "plt.ylabel('Cell density (g/L)')\n",
    "plt.title ('Comparing Analytical solution to RK')\n",
    "plt.plot(t,y,'-x',label='Numerical step = 10')\n",
    "plt.plot(t2,y2,'-x',label='Numerical step = 500')\n",
    "plt.plot(t,X,'-or',label = 'Analytical')\n",
    "plt.legend()"
   ]
  },
  {
   "cell_type": "markdown",
   "metadata": {},
   "source": [
    "## Using Scipy's ODE solver\n",
    "\n",
    "More complicated ODE solvers can be derived and have been. One of the common solvers comes from SciPy's Integrate library. The function is called  ```odeint ```. More can be read about the numerical method here: [Adams-Bashforths method](https://www.math.utah.edu/~vshankar/5620/LinearMultistepI.pdf)\n",
    "\n",
    "```odeint``` takes the following arguements ```odeint(function,intial_value,time_vector) ```.  It is important to note that the function to input into python is an actual python function that returns the derivative of the system. \n",
    "\n",
    "Using the cell growth model for the last time... A function is created to return the derivative of the cell growth: $ \\frac{dX}{dt} = \\mu _g X $"
   ]
  },
  {
   "cell_type": "code",
   "execution_count": 2,
   "metadata": {
    "collapsed": true
   },
   "outputs": [],
   "source": [
    "ug = 0.5 \n",
    "def dxdt(X,t):\n",
    "    return ug*X"
   ]
  },
  {
   "cell_type": "markdown",
   "metadata": {},
   "source": [
    "Next, a time vector is created and the initial concentration is set."
   ]
  },
  {
   "cell_type": "code",
   "execution_count": 3,
   "metadata": {
    "collapsed": true
   },
   "outputs": [],
   "source": [
    "tfinal = 12 \n",
    "time = np.linspace(0,tfinal,200) # from 0 hours to 20 hours in 200 intervals \n",
    "y0 = 2 # initial cell concentration  is 2 g/L"
   ]
  },
  {
   "cell_type": "markdown",
   "metadata": {},
   "source": [
    "These values are subsequently input into the ```odeint``` function, which is stored into a vector and plotted out. "
   ]
  },
  {
   "cell_type": "code",
   "execution_count": 4,
   "metadata": {},
   "outputs": [
    {
     "name": "stdout",
     "output_type": "stream",
     "text": [
      "After 12 hours, the final cell density is [ 806.85766419] g/L\n"
     ]
    },
    {
     "data": {
      "image/png": "[encoded data removed]",
      "text/plain": [
       "<matplotlib.figure.Figure at 0x7f96282c2710>"
      ]
     },
     "metadata": {},
     "output_type": "display_data"
    }
   ],
   "source": [
    "X = odeint(dxdt,y0,time)\n",
    "plt.plot(time,X)\n",
    "print (\"After {} hours, the final cell density is {} g/L\".format(tfinal,X[-1]) )"
   ]
  },
  {
   "cell_type": "markdown",
   "metadata": {},
   "source": [
    "## Problem 1: \n",
    "\n",
    "A tank of  $ 700 L $  contains a solution of $ 50 \\frac{g}{L} $ NaOH. 2 inlet valves and 1 oulet valve are opened. One inlet have inputs a solution of $ 12 \\frac{g}{L} $ at $ 10 \\frac{L}{hr} $. The other inlet stream is pure water running at  $ 15 \\frac{L}{hr} $. The outlet stream is set to maintain an equal flow to that of the inlet streams. \n",
    "\n",
    "Plot the concentration of the tank as a function of time. What concentration of NaOH will the tank have at 30hrs?"
   ]
  },
  {
   "cell_type": "markdown",
   "metadata": {},
   "source": [
    "## Solution: \n",
    "\n",
    "Let $ x_1 $ be the concentration of NaOH at the exit stream. Setting up the differential:\n",
    "\n",
    "$$ \\dot m_{out} = 10 + 15  = 25 \\frac{L}{hr} $$ \n",
    "\n",
    "\n",
    "$$ \\frac{d(Vx)}{dt}  = (12)*(10) + (0)*(15) - (x_1)(25)  $$ \n",
    "\n",
    "Since V is held constant: \n",
    "\n",
    "$$ \\frac{d(x)}{dt}  = \\frac{(12)*(10)}{V} + \\frac{(0)*(15)}{V} - \\frac{(x_1)(25)}{V}  $$ \n",
    "\n",
    "$$ \\frac{d(x)}{dt}  = \\frac{(12)*(10)}{700} + \\frac{(0)*(15)}{700} - \\frac{(x_1)(25)}{700}  $$ \n",
    "\n",
    "Coupled with the initial Concentration $ C_0 = 50 $, the ODE can be solved. "
   ]
  },
  {
   "cell_type": "code",
   "execution_count": 10,
   "metadata": {},
   "outputs": [
    {
     "name": "stdout",
     "output_type": "stream",
     "text": [
      "[ 4.8]\n"
     ]
    },
    {
     "data": {
      "image/png": "[encoded data removed]",
      "text/plain": [
       "<matplotlib.figure.Figure at 0x7f95fdd4f9b0>"
      ]
     },
     "metadata": {},
     "output_type": "display_data"
    }
   ],
   "source": [
    "\n",
    "\n",
    "C0 = 50 # g/L\n",
    "t = np.linspace(0,1050,200) # minutes \n",
    "dt= t[1]-t[0]\n",
    "\n",
    "def dcdt(C,t):\n",
    "    return (120/700-25/700*C)\n",
    "\n",
    "sol  = odeint(dcdt,C0,t)\n",
    "\n",
    "\n",
    "# print(t)\n",
    "plt.plot(t,sol)\n",
    "\n",
    "print(sol[-1])"
   ]
  },
  {
   "cell_type": "code",
   "execution_count": null,
   "metadata": {
    "collapsed": true
   },
   "outputs": [],
   "source": []
  }
 ],
 "metadata": {
  "kernelspec": {
   "display_name": "Python 3",
   "language": "python",
   "name": "python3"
  },
  "language_info": {
   "codemirror_mode": {
    "name": "ipython",
    "version": 3
   },
   "file_extension": ".py",
   "mimetype": "text/x-python",
   "name": "python",
   "nbconvert_exporter": "python",
   "pygments_lexer": "ipython3",
   "version": "3.6.1"
  }
 },
 "nbformat": 4,
 "nbformat_minor": 2
}
